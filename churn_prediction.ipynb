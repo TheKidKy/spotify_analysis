{
  "nbformat": 4,
  "nbformat_minor": 0,
  "metadata": {
    "colab": {
      "provenance": [],
      "authorship_tag": "ABX9TyOhvTqkXXtovAnqbOKuAh/z"
    },
    "kernelspec": {
      "name": "python3",
      "display_name": "Python 3"
    },
    "language_info": {
      "name": "python"
    }
  },
  "cells": [
    {
      "cell_type": "markdown",
      "source": [
        "### Import Libraries"
      ],
      "metadata": {
        "id": "lf40wrwvqNNu"
      }
    },
    {
      "cell_type": "code",
      "execution_count": null,
      "metadata": {
        "id": "EOFs6GmLqJwI"
      },
      "outputs": [],
      "source": [
        "import sklearn\n",
        "import os\n",
        "import pandas as pd\n",
        "import numpy as np\n",
        "import matplotlib.pyplot as plt\n",
        "from sklearn.preprocessing import OneHotEncoder\n",
        "from sklearn.compose import ColumnTransformer"
      ]
    },
    {
      "cell_type": "markdown",
      "source": [
        "### Load Data"
      ],
      "metadata": {
        "id": "mUGFvpKIqe0e"
      }
    },
    {
      "cell_type": "code",
      "source": [
        "# read csv file\n",
        "df = pd.read_csv('spotify_churn_dataset.csv')\n",
        "\n",
        "x = df.iloc[:, 1:-1].values\n",
        "y = df.iloc[:, -1].values\n"
      ],
      "metadata": {
        "id": "tYevMa9bqk4N"
      },
      "execution_count": null,
      "outputs": []
    },
    {
      "cell_type": "markdown",
      "source": [
        "### One-Hot Encoding Categorical Data"
      ],
      "metadata": {
        "id": "T0J80DmRsiq9"
      }
    },
    {
      "cell_type": "code",
      "source": [
        "enc = OneHotEncoder()\n",
        "ct = ColumnTransformer(transformers=[('encoder', enc, [0, 2, 3])])\n",
        "x = np.array(ct.fit_transform(x))"
      ],
      "metadata": {
        "id": "bVgAvxjnsl5c"
      },
      "execution_count": null,
      "outputs": []
    },
    {
      "cell_type": "code",
      "source": [
        "print(x)"
      ],
      "metadata": {
        "colab": {
          "base_uri": "https://localhost:8080/"
        },
        "id": "iIWyW-VGtSNa",
        "outputId": "80e4f8fd-7665-4ab0-bc9a-42a1ff310253"
      },
      "execution_count": null,
      "outputs": [
        {
          "output_type": "stream",
          "name": "stdout",
          "text": [
            "[[1. 0. 0. 1. 1. 0.]\n",
            " [0. 1. 1. 0. 0. 1.]\n",
            " [0. 1. 0. 1. 1. 0.]\n",
            " ...\n",
            " [1. 0. 0. 1. 1. 0.]\n",
            " [1. 0. 0. 1. 1. 0.]\n",
            " [0. 1. 1. 0. 0. 1.]]\n"
          ]
        }
      ]
    },
    {
      "cell_type": "markdown",
      "source": [
        "### Build KNN Model"
      ],
      "metadata": {
        "id": "a62Rv2Q3sUbQ"
      }
    },
    {
      "cell_type": "code",
      "source": [],
      "metadata": {
        "id": "NgB_agCQsXU9"
      },
      "execution_count": null,
      "outputs": []
    }
  ]
}